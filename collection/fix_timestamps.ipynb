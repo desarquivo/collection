{
 "cells": [
  {
   "cell_type": "markdown",
   "metadata": {},
   "source": [
    "# Explanation\n",
    "For some reason, a few news pieces have incoherent timestamps. This script iterates those outside the configuration [from, to] interval and will update their timestamps by looking for `wbinfo.timestamp = \"YYYYMMDDHHmmss\"` in their `noFrame` url, if this fails (rarely) they are marked as invalid aka `valid = False`"
   ]
  },
  {
   "cell_type": "code",
   "execution_count": null,
   "metadata": {},
   "outputs": [],
   "source": [
    "from src.utils import *\n",
    "from src.dbmongo import DbMongo, get_db\n",
    "from loguru import logger\n",
    "from tqdm.auto import tqdm"
   ]
  },
  {
   "cell_type": "code",
   "execution_count": null,
   "metadata": {},
   "outputs": [],
   "source": [
    "config = parse_config(\"config.json\")\n",
    "db = get_db(config)"
   ]
  },
  {
   "cell_type": "code",
   "execution_count": null,
   "metadata": {},
   "outputs": [],
   "source": [
    "import re, datetime"
   ]
  },
  {
   "cell_type": "code",
   "execution_count": null,
   "metadata": {},
   "outputs": [],
   "source": [
    "def fix_timestamp(n):\n",
    "    req = try_request(n[\"url\"])\n",
    "    if req:\n",
    "        ts_search = re.search(r\"wbinfo\\.timestamp = \\\"(\\d+)\\\"\", req.text)\n",
    "        if not ts_search: return\n",
    "        logger.info(\"old timestamp: %s\" % n[\"timestamp\"])\n",
    "        timestamp = arquivo_date_str(ts_search.group(1))\n",
    "        logger.info(\"new timestamp: %s\" % timestamp)\n",
    "        return timestamp"
   ]
  },
  {
   "cell_type": "code",
   "execution_count": null,
   "metadata": {},
   "outputs": [],
   "source": [
    "collection = \"news\"\n",
    "for n in db[collection].find({}):\n",
    "    if not \"timestamp\" in n:\n",
    "        print(\"NO TIME STAMP: %s\" % n[\"_id\"])\n",
    "        n[\"valid\"] = False\n",
    "    elif n[\"timestamp\"] < config[\"from\"] or n[\"timestamp\"] > config[\"to\"]:\n",
    "        print(n[\"_id\"], n[\"timestamp\"])\n",
    "        timestamp = fix_timestamp(n)\n",
    "        if timestamp:\n",
    "            n[\"timestamp\"] = timestamp\n",
    "            logger.success(\"UPDATED %s in the %s collection\" % (n[\"_id\"], collection))\n",
    "        else:\n",
    "            n[\"valid\"] = False\n",
    "            logger.error(\"MISSING timestamp for %s (%s)\" % (n[\"_id\"], n[\"url\"]))\n",
    "    else: continue # all is well\n",
    "    db._upsert_one(collection, n, False)"
   ]
  }
 ],
 "metadata": {
  "kernelspec": {
   "display_name": "Python 3.7.4 64-bit",
   "language": "python",
   "name": "python37464bit1910f3770f18458580fdf7baa626fc0e"
  },
  "language_info": {
   "codemirror_mode": {
    "name": "ipython",
    "version": 3
   },
   "file_extension": ".py",
   "mimetype": "text/x-python",
   "name": "python",
   "nbconvert_exporter": "python",
   "pygments_lexer": "ipython3",
   "version": "3.7.4-final"
  }
 },
 "nbformat": 4,
 "nbformat_minor": 2
}