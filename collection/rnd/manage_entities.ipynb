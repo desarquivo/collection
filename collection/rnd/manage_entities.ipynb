{
 "cells": [
  {
   "cell_type": "code",
   "execution_count": null,
   "metadata": {},
   "outputs": [],
   "source": [
    "from src.utils import *\n",
    "from src.dbmongo import DbMongo, get_db\n",
    "from collections import defaultdict, Counter\n",
    "from loguru import logger"
   ]
  },
  {
   "cell_type": "code",
   "execution_count": null,
   "metadata": {},
   "outputs": [],
   "source": [
    "#!pip install -r requirements.txt"
   ]
  },
  {
   "cell_type": "code",
   "execution_count": null,
   "metadata": {},
   "outputs": [],
   "source": [
    "def jaccard_index(p1, p2):\n",
    "    n1, n2 = p1[\"news\"], p2[\"news\"]\n",
    "    intersection = len((set(n1).intersection(n2)))\n",
    "    union = (len(n1) + len(n2)) - intersection\n",
    "    # print(intersection, union)\n",
    "    return intersection / union"
   ]
  },
  {
   "cell_type": "code",
   "execution_count": null,
   "metadata": {},
   "outputs": [],
   "source": [
    "def is_subset(p1, p2):\n",
    "    n1, n2 = p1[\"news\"], p2[\"news\"]\n",
    "    intersection = len((set(n1).intersection(n2)))\n",
    "    return intersection/len(n1), intersection/len(n2)"
   ]
  },
  {
   "cell_type": "code",
   "execution_count": null,
   "metadata": {},
   "outputs": [],
   "source": [
    "config = parse_config(\"config.json\")\n",
    "db = get_db(config)"
   ]
  },
  {
   "cell_type": "code",
   "execution_count": null,
   "metadata": {},
   "outputs": [],
   "source": [
    "# update len property\n",
    "for e in db[\"entities\"].find({}):\n",
    "    e[\"len\"] = len(e[\"news\"])\n",
    "    db._upsert_one(\"entities\", e)"
   ]
  },
  {
   "cell_type": "code",
   "execution_count": null,
   "metadata": {},
   "outputs": [],
   "source": [
    "ignore_people = set(config[\"ignore_people\"])"
   ]
  },
  {
   "cell_type": "code",
   "execution_count": null,
   "metadata": {},
   "outputs": [],
   "source": [
    "# delete people that should be ignored\n",
    "should_be_deleted = [p[\"_id\"] for p in db[\"people\"].find({\"_id\": {\"$in\": list(ignore_people)}})]\n",
    "print(should_be_deleted)"
   ]
  },
  {
   "cell_type": "code",
   "execution_count": null,
   "metadata": {},
   "outputs": [],
   "source": [
    "print(db[\"people\"].delete_many({\"_id\": {\"$in\": list(ignore_people)}}))"
   ]
  },
  {
   "cell_type": "code",
   "execution_count": null,
   "metadata": {},
   "outputs": [],
   "source": [
    "explored = [p[\"_id\"] for p in db[\"people\"].find({\"processed\": True})]\n",
    "print(\"explored:\", explored)"
   ]
  },
  {
   "cell_type": "code",
   "execution_count": null,
   "metadata": {},
   "outputs": [],
   "source": [
    "# total_news = db[\"news\"].count_documents({})\n",
    "# total_processed = len(explored)\n",
    "# print(total_news, total_processed, (total_news/total_processed)*0.05)"
   ]
  },
  {
   "cell_type": "code",
   "execution_count": null,
   "metadata": {
    "scrolled": false
   },
   "outputs": [],
   "source": [
    "potential = []\n",
    "for e in db[\"entities\"].find({\"label\": \"PER\",\"len\": {\"$gt\": 15}, \"_id\": {\"$regex\": \".+-.+\", \"$not\": {\"$in\": list(ignore_people) + explored}}}).sort(\"len\", -1).limit(200):\n",
    "    potential.append(e)\n",
    "    print(e[\"_id\"], len(e[\"news\"]))\n",
    "print(len(potential))"
   ]
  },
  {
   "cell_type": "code",
   "execution_count": null,
   "metadata": {},
   "outputs": [],
   "source": [
    "db.upsert_people([{\"_id\": p[\"_id\"], \"name\": p[\"text\"]} for p in potential])"
   ]
  },
  {
   "cell_type": "code",
   "execution_count": null,
   "metadata": {},
   "outputs": [],
   "source": [
    "# for p1 in potential:\n",
    "#     if p1[\"_id\"] in explored: continue\n",
    "#     for p2 in potential:\n",
    "#         if p1[\"_id\"] == p2[\"_id\"]: continue\n",
    "#         if p2[\"_id\"] in explored: continue\n",
    "        \n",
    "#         s1, s2 = is_subset(p1, p2)\n",
    "#         ji = jaccard_index(p1, p2)\n",
    "# #         if (s1 > 0.6 or s2 >0.6):\n",
    "#         if ji >= 0.5:\n",
    "#             print(p1[\"_id\"], p2[\"_id\"], \":\", s1, s2, \"-\", ji)"
   ]
  },
  {
   "cell_type": "code",
   "execution_count": null,
   "metadata": {},
   "outputs": [],
   "source": [
    "# def get_one(name): return next(db[\"entities\"].find({\"_id\": name}))"
   ]
  },
  {
   "cell_type": "code",
   "execution_count": null,
   "metadata": {},
   "outputs": [],
   "source": [
    "# jaccard_index(get_one(\"carlos-alexandre\"), get_one(\"cavaco-silva\"))"
   ]
  },
  {
   "cell_type": "code",
   "execution_count": null,
   "metadata": {},
   "outputs": [],
   "source": [
    "import matplotlib.pyplot as plt"
   ]
  },
  {
   "cell_type": "code",
   "execution_count": null,
   "metadata": {},
   "outputs": [],
   "source": [
    "x=[]\n",
    "for i in range(100):\n",
    "    x.append(db['entities'].count_documents({\"len\": i}))"
   ]
  },
  {
   "cell_type": "code",
   "execution_count": null,
   "metadata": {},
   "outputs": [],
   "source": [
    "print(\"count y entities that appear in x news articles\")\n",
    "n, bins, patches = plt.hist(x, list(range(100)), facecolor='blue', alpha=0.5)\n",
    "plt.show()"
   ]
  },
  {
   "cell_type": "markdown",
   "metadata": {},
   "source": [
    "## Check if any website is providing little results"
   ]
  },
  {
   "cell_type": "code",
   "execution_count": null,
   "metadata": {},
   "outputs": [],
   "source": [
    "from collections import Counter"
   ]
  },
  {
   "cell_type": "code",
   "execution_count": null,
   "metadata": {},
   "outputs": [],
   "source": [
    "ws = [n[\"website\"] for n in db[\"news\"].find({\"valid\": {\"$exists\": False}, \"processed\": True}, {\"website\": 1})]"
   ]
  },
  {
   "cell_type": "code",
   "execution_count": null,
   "metadata": {},
   "outputs": [],
   "source": [
    "Counter(ws)"
   ]
  }
 ],
 "metadata": {
  "kernelspec": {
   "display_name": "Python 3",
   "language": "python",
   "name": "python3"
  },
  "language_info": {
   "codemirror_mode": {
    "name": "ipython",
    "version": 3
   },
   "file_extension": ".py",
   "mimetype": "text/x-python",
   "name": "python",
   "nbconvert_exporter": "python",
   "pygments_lexer": "ipython3",
   "version": "3.6.8"
  }
 },
 "nbformat": 4,
 "nbformat_minor": 2
}